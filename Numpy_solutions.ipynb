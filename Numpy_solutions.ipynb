{
  "nbformat": 4,
  "nbformat_minor": 0,
  "metadata": {
    "colab": {
      "provenance": [],
      "mount_file_id": "1ssc2JZACTTooywmFMgxoBqBCXBZLdsbT",
      "authorship_tag": "ABX9TyM5JLDijY+eXgyWcIPKQ8Y8",
      "include_colab_link": true
    },
    "kernelspec": {
      "name": "python3",
      "display_name": "Python 3"
    },
    "language_info": {
      "name": "python"
    }
  },
  "cells": [
    {
      "cell_type": "markdown",
      "metadata": {
        "id": "view-in-github",
        "colab_type": "text"
      },
      "source": [
        "<a href=\"https://colab.research.google.com/github/ConstantInKazancev/Test/blob/main/Numpy_solutions.ipynb\" target=\"_parent\"><img src=\"https://colab.research.google.com/assets/colab-badge.svg\" alt=\"Open In Colab\"/></a>"
      ]
    },
    {
      "cell_type": "code",
      "source": [
        "# a)\n",
        "import numpy as np\n",
        "\n",
        "# b)\n",
        " \n",
        "x = np.zeros(10, dtype = 'int16')\n",
        "print(x)"
      ],
      "metadata": {
        "colab": {
          "base_uri": "https://localhost:8080/"
        },
        "id": "dWdbzoSFXTn3",
        "outputId": "c289e79e-547e-44f2-c0f7-cfa6b8d6dd59"
      },
      "execution_count": null,
      "outputs": [
        {
          "output_type": "stream",
          "name": "stdout",
          "text": [
            "[0 0 0 0 0 0 0 0 0 0]\n"
          ]
        }
      ]
    },
    {
      "cell_type": "code",
      "source": [
        "# c)\n",
        "\n",
        "a = np.ones(10, dtype = 'int16')\n",
        "print(a)"
      ],
      "metadata": {
        "colab": {
          "base_uri": "https://localhost:8080/"
        },
        "id": "sHKWGdKhF-X2",
        "outputId": "c62137ec-d8f5-49e7-fe9d-53699f70f437"
      },
      "execution_count": null,
      "outputs": [
        {
          "output_type": "stream",
          "name": "stdout",
          "text": [
            "[1 1 1 1 1 1 1 1 1 1]\n"
          ]
        }
      ]
    },
    {
      "cell_type": "code",
      "source": [
        "# d)\n",
        "\n",
        "a = np.full((10), 5, dtype = 'int16')\n",
        "print(a)"
      ],
      "metadata": {
        "colab": {
          "base_uri": "https://localhost:8080/"
        },
        "id": "wlOdfmrvF6pt",
        "outputId": "4c190f92-8088-4542-d557-26b98a7dab3c"
      },
      "execution_count": null,
      "outputs": [
        {
          "output_type": "stream",
          "name": "stdout",
          "text": [
            "[5 5 5 5 5 5 5 5 5 5]\n"
          ]
        }
      ]
    },
    {
      "cell_type": "code",
      "source": [
        "# e)\n",
        "\n",
        "e = np.arange(10, 51, dtype = 'int16')\n",
        "print(e)"
      ],
      "metadata": {
        "colab": {
          "base_uri": "https://localhost:8080/"
        },
        "id": "eCgANNDPF2Sj",
        "outputId": "c005b0a1-b6e4-4bd6-dd95-5cd33327263e"
      },
      "execution_count": null,
      "outputs": [
        {
          "output_type": "stream",
          "name": "stdout",
          "text": [
            "[10 11 12 13 14 15 16 17 18 19 20 21 22 23 24 25 26 27 28 29 30 31 32 33\n",
            " 34 35 36 37 38 39 40 41 42 43 44 45 46 47 48 49 50]\n"
          ]
        }
      ]
    },
    {
      "cell_type": "code",
      "source": [
        "# f)\n",
        "\n",
        "e = np.arange(10, 51, 2, dtype = 'int16')\n",
        "print(e)"
      ],
      "metadata": {
        "colab": {
          "base_uri": "https://localhost:8080/"
        },
        "id": "WhSAmuf1FtvJ",
        "outputId": "b8d096ec-68e0-4bce-ac68-30dabcfb3b9e"
      },
      "execution_count": null,
      "outputs": [
        {
          "output_type": "stream",
          "name": "stdout",
          "text": [
            "[10 12 14 16 18 20 22 24 26 28 30 32 34 36 38 40 42 44 46 48 50]\n"
          ]
        }
      ]
    },
    {
      "cell_type": "code",
      "source": [
        "# g)\n",
        "\n",
        "e = np.random.randint(0, 9, size=(3, 3))\n",
        "print(e)"
      ],
      "metadata": {
        "colab": {
          "base_uri": "https://localhost:8080/"
        },
        "id": "RwUafIQ0Flwz",
        "outputId": "dafa845b-05ee-4187-beb7-6e86ccc6fee7"
      },
      "execution_count": null,
      "outputs": [
        {
          "output_type": "stream",
          "name": "stdout",
          "text": [
            "[[2 3 8]\n",
            " [3 7 6]\n",
            " [3 6 4]]\n"
          ]
        }
      ]
    },
    {
      "cell_type": "code",
      "source": [
        "# h)\n",
        "\n",
        "i = np.identity(3, dtype = 'int16')\n",
        "print(i)"
      ],
      "metadata": {
        "colab": {
          "base_uri": "https://localhost:8080/"
        },
        "id": "KkFRLcutFjNG",
        "outputId": "6bf8aad4-e416-46bf-c237-01f43d88aec7"
      },
      "execution_count": null,
      "outputs": [
        {
          "output_type": "stream",
          "name": "stdout",
          "text": [
            "[[1 0 0]\n",
            " [0 1 0]\n",
            " [0 0 1]]\n"
          ]
        }
      ]
    },
    {
      "cell_type": "code",
      "source": [
        "# i)\n",
        "\n",
        "i = np.random.rand()\n",
        "print(i)"
      ],
      "metadata": {
        "colab": {
          "base_uri": "https://localhost:8080/"
        },
        "id": "Qniu7cqdGFj3",
        "outputId": "32947d35-c4f0-4de5-9417-6202ad71b78d"
      },
      "execution_count": null,
      "outputs": [
        {
          "output_type": "stream",
          "name": "stdout",
          "text": [
            "0.01944751277110912\n"
          ]
        }
      ]
    },
    {
      "cell_type": "code",
      "source": [
        "# j)\n",
        "\n",
        "i= np.random.normal(size = 25)\n",
        "print(i)"
      ],
      "metadata": {
        "colab": {
          "base_uri": "https://localhost:8080/"
        },
        "id": "Z46gPDj-Gvsg",
        "outputId": "9c4e0dfa-e67c-4630-c016-05747d35370a"
      },
      "execution_count": null,
      "outputs": [
        {
          "output_type": "stream",
          "name": "stdout",
          "text": [
            "[-2.26815312  0.04515069 -0.45694704 -1.24563815  1.05345812  0.57320165\n",
            " -1.97104496 -0.08363274  0.7179526  -1.54796812  1.78432972 -1.76376378\n",
            "  0.06669329  1.05201523 -0.33901458 -0.71328652 -0.09952985  0.26741573\n",
            "  0.1034243   0.84704127 -1.70239264 -0.98794225  0.40437732 -1.19845711\n",
            "  0.36495067]\n"
          ]
        }
      ]
    },
    {
      "cell_type": "code",
      "source": [
        "# k)\n",
        "\n",
        "k = np.linspace(0.01, 1, 100).reshape(10, 10)\n",
        "print(k)\n"
      ],
      "metadata": {
        "colab": {
          "base_uri": "https://localhost:8080/"
        },
        "id": "vREaiRjsgOAY",
        "outputId": "253ad189-08b6-494b-f4fa-df2dd7b9fed7"
      },
      "execution_count": null,
      "outputs": [
        {
          "output_type": "stream",
          "name": "stdout",
          "text": [
            "[[0.01 0.02 0.03 0.04 0.05 0.06 0.07 0.08 0.09 0.1 ]\n",
            " [0.11 0.12 0.13 0.14 0.15 0.16 0.17 0.18 0.19 0.2 ]\n",
            " [0.21 0.22 0.23 0.24 0.25 0.26 0.27 0.28 0.29 0.3 ]\n",
            " [0.31 0.32 0.33 0.34 0.35 0.36 0.37 0.38 0.39 0.4 ]\n",
            " [0.41 0.42 0.43 0.44 0.45 0.46 0.47 0.48 0.49 0.5 ]\n",
            " [0.51 0.52 0.53 0.54 0.55 0.56 0.57 0.58 0.59 0.6 ]\n",
            " [0.61 0.62 0.63 0.64 0.65 0.66 0.67 0.68 0.69 0.7 ]\n",
            " [0.71 0.72 0.73 0.74 0.75 0.76 0.77 0.78 0.79 0.8 ]\n",
            " [0.81 0.82 0.83 0.84 0.85 0.86 0.87 0.88 0.89 0.9 ]\n",
            " [0.91 0.92 0.93 0.94 0.95 0.96 0.97 0.98 0.99 1.  ]]\n"
          ]
        }
      ]
    },
    {
      "cell_type": "code",
      "source": [
        "# l)\n",
        "\n",
        "mat = np.arange(1,26).reshape(5,5)\n",
        "\n",
        "mat[2:5, 1:5]\n",
        "\n",
        "\n"
      ],
      "metadata": {
        "colab": {
          "base_uri": "https://localhost:8080/"
        },
        "id": "FaVbRSYAhkl7",
        "outputId": "e232a6b9-7ba3-4ab6-d8ec-1c0ff4c891a0"
      },
      "execution_count": null,
      "outputs": [
        {
          "output_type": "execute_result",
          "data": {
            "text/plain": [
              "array([[12, 13, 14, 15],\n",
              "       [17, 18, 19, 20],\n",
              "       [22, 23, 24, 25]])"
            ]
          },
          "metadata": {},
          "execution_count": 11
        }
      ]
    },
    {
      "cell_type": "code",
      "source": [
        "# m) \n",
        "\n",
        "print(mat[3, -1])"
      ],
      "metadata": {
        "colab": {
          "base_uri": "https://localhost:8080/"
        },
        "id": "E-DVxY7y3wRA",
        "outputId": "a5da00ee-80f2-4b2a-b6d0-5d23c1d8077f"
      },
      "execution_count": null,
      "outputs": [
        {
          "output_type": "stream",
          "name": "stdout",
          "text": [
            "20\n",
            "--------\n"
          ]
        }
      ]
    },
    {
      "cell_type": "code",
      "source": [
        "# n)\n",
        "\n",
        "mat[0:3, 1].reshape(3, 1)"
      ],
      "metadata": {
        "colab": {
          "base_uri": "https://localhost:8080/"
        },
        "id": "cvjW5I3L308j",
        "outputId": "aca935d3-7601-437b-fc46-28811cc327ab"
      },
      "execution_count": null,
      "outputs": [
        {
          "output_type": "execute_result",
          "data": {
            "text/plain": [
              "array([[ 2],\n",
              "       [ 7],\n",
              "       [12]])"
            ]
          },
          "metadata": {},
          "execution_count": 9
        }
      ]
    },
    {
      "cell_type": "code",
      "source": [
        "# o)\n",
        "\n",
        "mat[4]"
      ],
      "metadata": {
        "colab": {
          "base_uri": "https://localhost:8080/"
        },
        "id": "m71m4da74AKm",
        "outputId": "51d4564b-3f42-4281-d012-847f7e58a707"
      },
      "execution_count": null,
      "outputs": [
        {
          "output_type": "execute_result",
          "data": {
            "text/plain": [
              "array([21, 22, 23, 24, 25])"
            ]
          },
          "metadata": {},
          "execution_count": 8
        }
      ]
    },
    {
      "cell_type": "code",
      "source": [
        "# p)\n",
        "\n",
        "print(mat[3:])\n",
        "# можно ещё так\n",
        "print(mat[-2:])"
      ],
      "metadata": {
        "colab": {
          "base_uri": "https://localhost:8080/"
        },
        "id": "71jJoo0Y42pn",
        "outputId": "ea67fba6-7b68-4e25-ee40-a11eec80d07b"
      },
      "execution_count": null,
      "outputs": [
        {
          "output_type": "stream",
          "name": "stdout",
          "text": [
            "[[16 17 18 19 20]\n",
            " [21 22 23 24 25]]\n",
            "[[16 17 18 19 20]\n",
            " [21 22 23 24 25]]\n"
          ]
        }
      ]
    },
    {
      "cell_type": "code",
      "source": [
        "# q)\n",
        "\n",
        "print(np.sum(mat))"
      ],
      "metadata": {
        "colab": {
          "base_uri": "https://localhost:8080/"
        },
        "id": "4QG2LP_M6EdL",
        "outputId": "8ffce58f-b5bc-46ae-f877-af69c4d22efc"
      },
      "execution_count": null,
      "outputs": [
        {
          "output_type": "stream",
          "name": "stdout",
          "text": [
            "325\n"
          ]
        }
      ]
    },
    {
      "cell_type": "code",
      "source": [
        "# r)\n",
        "\n",
        "np.std(mat)"
      ],
      "metadata": {
        "colab": {
          "base_uri": "https://localhost:8080/"
        },
        "id": "mY4xjrMO_Qq2",
        "outputId": "04d20dc9-7cb1-48ae-bc44-15e25879a81c"
      },
      "execution_count": null,
      "outputs": [
        {
          "output_type": "execute_result",
          "data": {
            "text/plain": [
              "7.211102550927978"
            ]
          },
          "metadata": {},
          "execution_count": 32
        }
      ]
    },
    {
      "cell_type": "code",
      "source": [
        "# s)\n",
        "\n",
        "print(sum(mat))"
      ],
      "metadata": {
        "colab": {
          "base_uri": "https://localhost:8080/"
        },
        "id": "vIkcbxnF_nSA",
        "outputId": "0bf48bb4-b588-4255-e94b-1666bbd8e3ff"
      },
      "execution_count": null,
      "outputs": [
        {
          "output_type": "stream",
          "name": "stdout",
          "text": [
            "[55 60 65 70 75]\n"
          ]
        }
      ]
    }
  ]
}