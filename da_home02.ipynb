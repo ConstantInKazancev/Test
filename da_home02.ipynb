{
  "nbformat": 4,
  "nbformat_minor": 0,
  "metadata": {
    "colab": {
      "provenance": [],
      "authorship_tag": "ABX9TyM4o3fr7anT5BDlxqBE46EK",
      "include_colab_link": true
    },
    "kernelspec": {
      "name": "python3",
      "display_name": "Python 3"
    },
    "language_info": {
      "name": "python"
    }
  },
  "cells": [
    {
      "cell_type": "markdown",
      "metadata": {
        "id": "view-in-github",
        "colab_type": "text"
      },
      "source": [
        "<a href=\"https://colab.research.google.com/github/ConstantInKazancev/Test/blob/main/da_home02.ipynb\" target=\"_parent\"><img src=\"https://colab.research.google.com/assets/colab-badge.svg\" alt=\"Open In Colab\"/></a>"
      ]
    },
    {
      "cell_type": "code",
      "execution_count": 19,
      "metadata": {
        "colab": {
          "base_uri": "https://localhost:8080/"
        },
        "id": "-Ukf10-w1sD_",
        "outputId": "9627ce26-b7e0-4bcc-f3cc-a242c96ae624"
      },
      "outputs": [
        {
          "output_type": "stream",
          "name": "stdout",
          "text": [
            "!-!-OMG-!-!\n"
          ]
        }
      ],
      "source": [
        "import numpy as np\n",
        "import pandas as pd\n",
        "url ='https://archive.ics.uci.edu/ml/machine-learning-databases/iris/iris.data'\n",
        "\n",
        "d = np.genfromtxt(url, delimiter=',', dtype='str')\n",
        "\n",
        "# print(d[:10, 4])\n",
        "# print(d[:10])\n",
        "# print('_-_-_-_-_-_-_')\n",
        "print(\"!-!-OMG-!-!\")\n",
        "\n",
        "\n",
        "\n"
      ]
    },
    {
      "cell_type": "code",
      "source": [
        "new_d = d[:, 0:4]\n",
        "print(type(new_d))\n",
        "print(new_d.dtype )\n",
        "# print(new_d)\n",
        "df = np.array(new_d, dtype=float)  # <--- До этого я долго не мог додуматься)))\n",
        "print(df.max())\n",
        "print(df.min())\n",
        "print(df.mean())\n",
        "print(np.median(df))\n",
        "print(np.percentile(df, 25))\n",
        "print(np.percentile(df, 75))"
      ],
      "metadata": {
        "colab": {
          "base_uri": "https://localhost:8080/"
        },
        "id": "P2x3DC0nnLBb",
        "outputId": "fa26d6b1-cb24-4e70-c05f-9aaaf30daf6a"
      },
      "execution_count": 38,
      "outputs": [
        {
          "output_type": "stream",
          "name": "stdout",
          "text": [
            "<class 'numpy.ndarray'>\n",
            "<U15\n",
            "7.9\n",
            "0.1\n",
            "3.4636666666666662\n",
            "3.2\n",
            "3.896679888888889\n",
            "1.7\n",
            "5.1\n"
          ]
        }
      ]
    },
    {
      "cell_type": "code",
      "source": [
        "import matplotlib.pyplot as plt\n",
        "import seaborn;\n",
        "#print(type(seaborn.set()))\n",
        "print(plt.hist(df, bins = 20))"
      ],
      "metadata": {
        "colab": {
          "base_uri": "https://localhost:8080/",
          "height": 432
        },
        "id": "nYxOXmszZ5p_",
        "outputId": "06fdfc09-32f7-4fc4-8ead-10a156a99579"
      },
      "execution_count": 58,
      "outputs": [
        {
          "output_type": "stream",
          "name": "stdout",
          "text": [
            "(array([[ 0.,  0.,  0.,  0.,  0.,  0.,  0.,  0.,  0.,  0.,  1., 10., 30.,\n",
            "        18., 24., 25., 22.,  9.,  5.,  6.],\n",
            "       [ 0.,  0.,  0.,  0.,  1., 10., 36., 61., 27., 11.,  3.,  1.,  0.,\n",
            "         0.,  0.,  0.,  0.,  0.,  0.,  0.],\n",
            "       [ 0.,  0.,  4., 40.,  6.,  0.,  0.,  1.,  5.,  5., 14., 20., 21.,\n",
            "         9., 14.,  6.,  4.,  1.,  0.,  0.],\n",
            "       [48.,  2., 15., 37., 25., 20.,  3.,  0.,  0.,  0.,  0.,  0.,  0.,\n",
            "         0.,  0.,  0.,  0.,  0.,  0.,  0.]]), array([0.1 , 0.49, 0.88, 1.27, 1.66, 2.05, 2.44, 2.83, 3.22, 3.61, 4.  ,\n",
            "       4.39, 4.78, 5.17, 5.56, 5.95, 6.34, 6.73, 7.12, 7.51, 7.9 ]), <a list of 4 Lists of Patches objects>)\n"
          ]
        },
        {
          "output_type": "display_data",
          "data": {
            "text/plain": [
              "<Figure size 432x288 with 1 Axes>"
            ],
            "image/png": "[encoded data removed]"
          },
          "metadata": {}
        }
      ]
    }
  ]
}